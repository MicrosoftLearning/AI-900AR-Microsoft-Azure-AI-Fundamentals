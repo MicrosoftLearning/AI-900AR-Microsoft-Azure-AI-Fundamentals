{
  "cells": [
    {
      "cell_type": "markdown",
      "source": [
        "# تحليل الإيصالات باستخدام معرف النماذج\r\n",
        "\r\n",
        "![روبوت يحمل إيصالًا](./images/receipt_analysis.jpg)\r\n",
        "\r\n",
        "في حقل الذكاء الاصطناعي (AI) للرؤية الحاسوبية، يشيع استخدام التعرف الضوئي على الأحرف (OCR) لقراءة المستندات المطبوعة أو المكتوبة بخط اليد. في كثير من الأحيان، يتم استخراج النص ببساطة من المستندات إلى صيغة يمكن استخدامها لمزيد من المعالجة أو التحليل.\r\n",
        "\r\n",
        "ومن وضعيات التعرف على الأحرف الأكثر تقدمًا، استخراج المعلومات من النماذج، مثل أوامر الشراء أو الفواتير، مع فهم دلالي لما تمثله الحقول في النموذج. خدمة **التعرف على النماذج** مصممة خصيصًا لهذا النوع من مشاكل الذكاء الاصطناعي.\r\n",
        "\r\n",
        "## عرض إيصال\r\n",
        "\r\n",
        "في هذا المثال، ستستخدم النموذج المدمج في معرف النماذج لتحليل الإيصالات.\r\n",
        "\r\n",
        "انقر فوق الزر **تشغيل الخانة **(&#9655;) (على يسار الخانة) أدناه لتشغيلها ومشاهدة مثال للإيصال الذي ستستخدم أداة التعرف على النماذج لتحليله."
      ],
      "metadata": {}
    },
    {
      "cell_type": "code",
      "source": [
        "import matplotlib.pyplot as plt\n",
        "from PIL import Image\n",
        "import os\n",
        "%matplotlib inline\n",
        "\n",
        "\n",
        "# تحميل وعرض صورة إيصال\r\n",
        "fig = plt.figure(figsize=(6, 6))\n",
        "image_path = os.path.join('data', 'form-receipt', 'receipt.jpg')\n",
        "img = Image.open(image_path)\n",
        "plt.axis('off')\n",
        "plt.imshow(img)"
      ],
      "outputs": [],
      "execution_count": null,
      "metadata": {
        "gather": {
          "logged": 1599694427893
        }
      }
    },
    {
      "cell_type": "markdown",
      "source": [
        "## قم بإنشاء مورد معرف النماذج\r\n",
        "\r\n",
        "ابدأ بإنشاء مورد معرف النماذج في اشتراك Azure الخاص بك:\r\n",
        "\r\n",
        "1. في علامة تبويب مستعرض أخرى، افتح مدخل Azure على https://portal.azure.com، وقم بتسجيل الدخول باستخدام حساب Microsoft الخاص بك.\r\n",
        "2. اختر+** إنشاء مورد،** وابحث عن أداة* التعرف على النماذج.*\r\n",
        "3. في قائمة الخدمات اختر ** أداة التعرف على النماذج.**\r\n",
        "4. في شفرة **أداة التعرف على النماذج،** اختر **إنشاء**.\r\n",
        "5. في وحدة **إنشاء**، أدخل التفاصيل التالية وحدد **إنشاء**\r\n",
        "   - **الاسم:** اسم مميز لخدمتك\r\n",
        "   - **الاشتراك**: اشتراكك في Azure\r\n",
        "   - **المنطقة** أي منطقة متوفرة\r\n",
        "   - **مستوى الأسعار**: F0\r\n",
        "   - **مجموعة الموارد**: مجموعة الموارد الحالية التي استخدمتها سابقًا\r\n",
        "   - **أؤكد أنني قد قرأت وفهمت الإشعار أدناه:** تم الاختيار.\r\n",
        "6. انتظر حتى يتم إنشاء الخدمة.\r\n",
        "7. اعرض خدمة معرف النماذج التي تم إنشاؤها حديثًا في مدخل Azure وعلى صفحة **المفاتيح ونقطة النهاية،** انسخ قيم** Key1** و**نقطة النهاية** وألصقها في خلية التعليمات البرمجية أدناه، مع استبدال **YOUR_FORM_KEY** و **YOUR_FORM_ENDPOINT**."
      ],
      "metadata": {}
    },
    {
      "cell_type": "code",
      "source": [
        "form_key = 'YOUR_FORM_KEY'\n",
        "form_endpoint = 'YOUR_FORM_ENDPOINT'\n",
        "\n",
        "print('Ready to use form recognizer at {} using key {}'.format(form_endpoint, form_key))"
      ],
      "outputs": [],
      "execution_count": null,
      "metadata": {
        "gather": {
          "logged": 1599694505850
        }
      }
    },
    {
      "cell_type": "markdown",
      "source": [
        "## تحليل الإيصال\r\n",
        "\r\n",
        "أنت الآن جاهز لاستخدام أداة التعرف على النماذج لتحليل إيصال."
      ],
      "metadata": {}
    },
    {
      "cell_type": "code",
      "source": [
        "import os\n",
        "from azure.ai.formrecognizer import FormRecognizerClient\n",
        "from azure.core.credentials import AzureKeyCredential\n",
        "\n",
        "# إنشاء عميل لخدمة معرف النماذج\r\n",
        "form_recognizer_client = FormRecognizerClient(endpoint=form_endpoint, credential=AzureKeyCredential(form_key))\n",
        "\n",
        "try:\n",
        "    print(\"Analyzing receipt...\")\n",
        "    # Get the receipt image file\n",
        "    image_path = os.path.join('data', 'form-receipt', 'receipt.jpg')\n",
        "\n",
        "    # Submit the file data to form recognizer\n",
        "    with open(image_path, \"rb\") as f:\n",
        "        analyze_receipt = form_recognizer_client.begin_recognize_receipts(receipt=f)\n",
        "    \n",
        "    # Get the results\n",
        "    receipt_data = analyze_receipt.result()\n",
        "\n",
        "    # Print the extracted data for the first (and only) receipt\n",
        "    receipt = receipt_data[0]\n",
        "    receipt_type = receipt.fields.get(\"ReceiptType\")\n",
        "    if receipt_type:\n",
        "        print(\"Receipt Type: {}\".format(receipt_type.value))\n",
        "    merchant_address = receipt.fields.get(\"MerchantAddress\")\n",
        "    if merchant_address:\n",
        "        print(\"Merchant Address: {}\".format(merchant_address.value))\n",
        "    merchant_phone = receipt.fields.get(\"MerchantPhoneNumber\")\n",
        "    if merchant_phone:\n",
        "        print(\"Merchant Phone: {}\".format(merchant_phone.value))\n",
        "    transaction_date = receipt.fields.get(\"TransactionDate\")\n",
        "    if transaction_date:\n",
        "        print(\"Transaction Date: {}\".format(transaction_date.value))\n",
        "    print(\"Receipt items:\")\n",
        "    items = receipt.fields.get(\"Items\")\n",
        "    if items:\n",
        "        for idx, item in enumerate(receipt.fields.get(\"Items\").value):\n",
        "            print(\"\\tItem #{}\".format(idx+1))\n",
        "            item_name = item.value.get(\"Name\")\n",
        "            if item_name:\n",
        "                print(\"\\t - Name: {}\".format(item_name.value))\n",
        "            item_total_price = item.value.get(\"TotalPrice\")\n",
        "            if item_total_price:\n",
        "                print(\"\\t - Price: {}\".format(item_total_price.value))\n",
        "    subtotal = receipt.fields.get(\"Subtotal\")\n",
        "    if subtotal:\n",
        "        print(\"Subtotal: {} \".format(subtotal.value))\n",
        "    tax = receipt.fields.get(\"Tax\")\n",
        "    if tax:\n",
        "        print(\"Tax: {}\".format(tax.value))\n",
        "    total = receipt.fields.get(\"Total\")\n",
        "    if total:\n",
        "        print(\"Total: {}\".format(total.value))\n",
        "\n",
        "except Exception as ex:\n",
        "    print('Error:', ex)\n"
      ],
      "outputs": [],
      "execution_count": null,
      "metadata": {
        "gather": {
          "logged": 1599694525404
        }
      }
    },
    {
      "cell_type": "markdown",
      "source": [
        "لاحظ أن معرف النماذج قادر على تفسير البيانات في النموذج، وتحديد عنوان التاجر ورقم الهاتف بشكل صحيح، وتاريخ ووقت المعاملة، بالإضافة إلى البنود والإجمالي الفرعي والضرائب والمبالغ الإجمالية.\r\n",
        "\r\n",
        "## المزيد من المعلومات\r\n",
        "\r\n",
        "لمزيد من المعلومات حول خدمة أداة التعرف على النماذج، يرجى الاطلاع على [مستندات أداة التعرف النماذج](https://docs.microsoft.com/ar-sa/azure/cognitive-services/form-recognizer/index)"
      ],
      "metadata": {}
    }
  ],
  "metadata": {
    "language_info": {
      "name": "python",
      "version": "3.6.9",
      "mimetype": "text/x-python",
      "codemirror_mode": {
        "name": "ipython",
        "version": 3
      },
      "pygments_lexer": "ipython3",
      "nbconvert_exporter": "python",
      "file_extension": ".py"
    },
    "kernelspec": {
      "name": "python3-azureml",
      "language": "python",
      "display_name": "Python 3.6 - AzureML"
    },
    "kernel_info": {
      "name": "python3-azureml"
    },
    "nteract": {
      "version": "nteract-front-end@1.0.0"
    }
  },
  "nbformat": 4,
  "nbformat_minor": 2
}