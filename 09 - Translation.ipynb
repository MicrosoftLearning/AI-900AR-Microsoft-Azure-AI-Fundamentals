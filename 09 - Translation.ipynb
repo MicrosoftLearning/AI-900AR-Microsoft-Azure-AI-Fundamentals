{
  "cells": [
    {
      "cell_type": "markdown",
      "source": [
        "# الترجمة\r\n",
        "\r\n",
        "إحدى القوى الدافعة التي مكّنت الحضارة الإنسانية من التطور هي القدرة على التواصل مع بعضها البعض. في معظم المساعي البشرية، التواصل هو المفتاح.\r\n",
        "\r\n",
        "[روبوت متعدد اللغات!](./images/translation.jpg)\r\n",
        "\r\n",
        "يمكن للذكاء الاصطناعي (AI) المساعدة في تبسيط الاتصال عن طريق ترجمة النص أو الكلام بين اللغات، مما يساعد على إزالة الحواجز أمام التواصل عبر البلدان والثقافات.\r\n",
        "\r\n",
        "## إنشاء مورد خدمات معرفية\r\n",
        "\r\n",
        "في Azure، يمكنك استخدام الخدمات المعرفية للتحويل بين لغات متعددة.\r\n",
        "\r\n",
        "إذا لم يكن لديك واحد بالفعل، فاستخدم الخطوات التالية لإنشاء مورد **خدمات معرفية**في اشتراكك في Azure:\r\n",
        "\r\n",
        "> **ملاحظة**: إذا كان لديك بالفعل مورد خدمات معرفية، فقط افتح صفحة** البدء السريع** الخاصة به في مدخل Azure وانسخ مفتاحه ونقطة النهاية إلى الخانة أدناه. خلاف ذلك، اتبع الخطوات أدناه لإنشاء واحدة.\r\n",
        "\r\n",
        "1. في علامة تبويب مستعرض أخرى، افتح مدخل Azure على https://portal.azure.com، وقم بتسجيل الدخول باستخدام حساب Microsoft الخاص بك.\r\n",
        "2. انقر فوق** زر إنشاء #& **65291 *مورد 65291، وابحث عن *خدمات معرفية**، وأنشئ مورد **خدمات معرفية بالإعدادات التالية:\r\n",
        "    - **الاشتراك**: *اشتراكك في Azure.*.\r\n",
        "    -**مجموعة الموارد**: *حدد أو أنشئ مجموعة موارد باسم فريد*.\r\n",
        "    -**المنطقة**: *اختر أي منطقة متوفرة*:\r\n",
        "    - **الاسم**: *أدخل اسمًا فريدًا*.\r\n",
        "    - **مستوى الأسعار**: S0\r\n",
        "    - **أؤكد أنني قد قرأت وفهمت الإخطارات**: تم الاختيار.\r\n",
        "3. انتظر حتى اكتمال النشر. ثم انتقل إلى مورد الخدمات المعرفية الخاص بك، وفي صفحة **نظرة عامة**، انقر على رابط لإدارة مفاتيح الخدمة. ستحتاج إلى نقطة النهاية والمفاتيح للاتصال بمورد الخدمات المعرفية من تطبيقات العميل.\r\n",
        "\r\n",
        "### احصل على المفتاح والموقع لمورد الخدمات المعرفية\r\n",
        "\r\n",
        "لاستخدام مورد الخدمات المعرفية، تحتاج تطبيقات العميل إلى مفتاح المصادقة والموقع:\r\n",
        "\r\n",
        "1. في مدخل Azure، في صفحة **المفاتيح ونقطة النهاية** لمورد الخدمة المعرفية، انسخ ****Key1 لموردك وقم بلصقه في الرمز أدناه، مع استبدال **YOUR_COG_KEY**.\r\n",
        "2. انسخ **الموقع** لموردك والصقه في الرمز أدناه، مع استبدال**YOUR_COG_LOCATION**.\r\n",
        "**ملاحظة**: ابق في صفحة **المفاتيح ونقطة النهاية** وانسخ **الموقع** من هذه الصفحة (مثال: _westus_). يرجى عدم إضافة مسافات بين الكلمات في حقل الموقع. \r\n",
        "3. قم بتشغيل الرمز أدناه عن طريق النقر فوق زر **تشغيل الخلية** (&# 9655؛) الموجود على يسار الخلية."
      ],
      "metadata": {}
    },
    {
      "cell_type": "code",
      "source": [
        "cog_key = 'YOUR_COG_KEY'\n",
        "cog_location = 'YOUR_COG_LOCATION'\n",
        "\n",
        "print('Ready to use cognitive services in {} using key {}'.format(cog_location, cog_key))"
      ],
      "outputs": [],
      "execution_count": null,
      "metadata": {
        "gather": {
          "logged": 1599695377020
        }
      }
    },
    {
      "cell_type": "markdown",
      "source": [
        "## ترجمة النص\r\n",
        "\r\n",
        "كما يوحي اسمها، تتيح لك خدمة **ترجمة النصوص** تحويل النص من لغة إلى أخرى.\r\n",
        "\r\n",
        "لا توجد Python SDK لهذه الخدمة، ولكن يمكنك استخدام واجهة REST لإرسال الطلبات إلى نقطة نهاية عبر HTTP، وهو أمر سهل نسبيًا في Python باستخدام مكتبة **الطلبات**. يتم تبادل المعلومات حول النص المراد ترجمته والنص المترجم الناتج بتنسيق JSON.\r\n",
        "\r\n",
        "قم بتشغيل الخلية التالية لإنشاء وظيفة تقوم بذلك، ثم اختبر الوظيفة بترجمة بسيطة من الإنجليزية إلى الفرنسية."
      ],
      "metadata": {}
    },
    {
      "cell_type": "code",
      "source": [
        "# قم بإنشاء وظيفة تقدم طلب REST إلى خدمة الترجمة النصية\r\n",
        "def translate_text(cog_location, cog_key, text, to_lang='fr', from_lang='en'):\n",
        "    import requests, uuid, json\n",
        "\n",
        "    # Create the URL for the Text Translator service REST request\n",
        "    path = 'https://api.cognitive.microsofttranslator.com/translate?api-version=3.0'\n",
        "    params = '&from={}&to={}'.format(from_lang, to_lang)\n",
        "    constructed_url = path + params\n",
        "\n",
        "    # Prepare the request headers with Cognitive Services resource key and region\n",
        "    headers = {\n",
        "        'Ocp-Apim-Subscription-Key': cog_key,\n",
        "        'Ocp-Apim-Subscription-Region':cog_location,\n",
        "        'Content-type': 'application/json',\n",
        "        'X-ClientTraceId': str(uuid.uuid4())\n",
        "    }\n",
        "\n",
        "    # Add the text to be translated to the body\n",
        "    body = [{\n",
        "        'text': text\n",
        "    }]\n",
        "\n",
        "    # Get the translation\n",
        "    request = requests.post(constructed_url, headers=headers, json=body)\n",
        "    response = request.json()\n",
        "    return response[0][\"translations\"][0][\"text\"]\n",
        "\n",
        "\n",
        "# اختبار التطبيقات\r\n",
        "text_to_translate = \"Hello\"\n",
        "\n",
        "translation = translate_text(cog_location, cog_key, text_to_translate, to_lang='fr', from_lang='en')\n",
        "print('{} -> {}'.format(text_to_translate,translation))"
      ],
      "outputs": [],
      "execution_count": null,
      "metadata": {
        "gather": {
          "logged": 1599695393341
        }
      }
    },
    {
      "cell_type": "markdown",
      "source": [
        "يجب أن تكون الخدمة قد ترجمت النص الإنجليزي \"Hello\" إلى \"Bonjour\" الفرنسية.\r\n",
        "\r\n",
        "لاحظ أن اللغات محددة باستخدام نظام معياري لاختصارات اللغة، مع* en* للغة الإنجليزية و*fr* للفرنسية. يمكنك أيضًا استخدام الاختصارات التي تتضمن ثقافات معينة، وهو أمر مفيد عند استخدام نفس اللغة في مناطق جغرافية مختلفة - غالبًا باستخدام تهجئات مختلفة. على سبيل المثال ، تشير* *en-US إلى اللغة الإنجليزية في الولايات المتحدة، بينما تشير *en-GB *إلى اللغة الإنجليزية في المملكة المتحدة.\r\n",
        "\r\n",
        "قم بتشغيل الخانة التالية للترجمة بين الإنجليزية البريطانية والإيطالية."
      ],
      "metadata": {}
    },
    {
      "cell_type": "code",
      "source": [
        "text_to_translate = \"Hello\"\n",
        "\n",
        "translation = translate_text(cog_location, cog_key, text_to_translate, to_lang='it-IT', from_lang='en-GB')\n",
        "print('{} -> {}'.format(text_to_translate,translation))"
      ],
      "outputs": [],
      "execution_count": null,
      "metadata": {
        "gather": {
          "logged": 1599695400335
        }
      }
    },
    {
      "cell_type": "markdown",
      "source": [
        "لنجرب ترجمة أخرى - هذه المرة من الإنجليزية الأمريكية إلى الصينية."
      ],
      "metadata": {}
    },
    {
      "cell_type": "code",
      "source": [
        "text_to_translate = \"Hello\"\n",
        "\n",
        "translation = translate_text(cog_location, cog_key, text_to_translate, to_lang='zh-CN', from_lang='en-US')\n",
        "print('{} -> {}'.format(text_to_translate,translation))"
      ],
      "outputs": [],
      "execution_count": null,
      "metadata": {
        "gather": {
          "logged": 1599695403076
        }
      }
    },
    {
      "cell_type": "markdown",
      "source": [
        "## ترجمة الكلام\r\n",
        "\r\n",
        "يمكنك استخدام خدمة **الكلام **لترجمة اللغة المنطوقة.\r\n",
        "\r\n",
        "يمكنك الآن تشغيل الخانة التالية لإنشاء واختبار وظيفة تستخدم Speech SDK لتحويل الكلام المسموع.\r\n",
        "\r\n",
        "> **ملاحظة**: ستحتاج إلى مكبرات صوت لتثبيت الصوت."
      ],
      "metadata": {}
    },
    {
      "cell_type": "code",
      "source": [
        "from playsound import playsound \n",
        "\n",
        "# قم بإنشاء وظيفة لتحويل الصوت من لغة إلى نص بلغة أخرى\r\n",
        "def translate_speech(cog_location, cog_key, audio_file=None, to_lang='fr-FR', from_lang='en-US'):\n",
        "    from azure.cognitiveservices.speech import SpeechConfig, AudioConfig, ResultReason\n",
        "    from azure.cognitiveservices.speech.translation import SpeechTranslationConfig, TranslationRecognizer\n",
        "\n",
        "    # Configure the speech translation service\n",
        "    translation_config = SpeechTranslationConfig(subscription=cog_key, region=cog_location)\n",
        "    translation_config.speech_recognition_language = from_lang\n",
        "    translation_config.add_target_language(to_lang)\n",
        "\n",
        "    # Configure audio input\n",
        "    if audio_file is None:\n",
        "        audio_config = AudioConfig() # Use default input (microphone)\n",
        "    else:\n",
        "        audio_config = AudioConfig(filename=audio_file) # Use file input\n",
        "\n",
        "    # Create a translation recognizer and use it to translate speech input\n",
        "    recognizer = TranslationRecognizer(translation_config, audio_config)\n",
        "    result = recognizer.recognize_once()\n",
        "\n",
        "    # Did we get it?\n",
        "    translation = ''\n",
        "    speech_text = ''\n",
        "    if result.reason == ResultReason.TranslatedSpeech:\n",
        "        speech_text = result.text\n",
        "        translation =  result.translations[to_lang]\n",
        "    elif result.reason == ResultReason.RecognizedSpeech:\n",
        "        speech_text = result.text\n",
        "        translation =  'Unable to translate speech'\n",
        "    else:\n",
        "        translation = 'Unknown'\n",
        "        speech_text = 'Unknown'\n",
        "\n",
        "    # rturn the translation\n",
        "    return speech_text, translation\n",
        "    \n",
        "\n",
        "# اختبار التطبيقات\r\n",
        "import os\n",
        "\n",
        "file_name = 'english.wav'\n",
        "file_path = os.path.join('data', 'translation', file_name)\n",
        "speech, translated_speech = translate_speech(cog_location, cog_key, file_path, to_lang='es', from_lang='en-US')\n",
        "result = '{} -> {}'.format(speech, translated_speech)\n",
        "\n",
        "# تشغيل الصوت وإظهار النص المترجم\r\n",
        "playsound(file_path)\n",
        "print(result)"
      ],
      "outputs": [],
      "execution_count": null,
      "metadata": {
        "gather": {
          "logged": 1599695532629
        }
      }
    },
    {
      "cell_type": "markdown",
      "source": [
        "لاحظ أنه يجب تحديد اللغة \"إلى\" باستخدام رمز لغة مكون من حرفين (على سبيل المثال *en)،* بينما يجب أن تتضمن اللغة \"من\" مؤشر الثقافة (على سبيل المثال *en-US*).\r\n",
        "\r\n",
        "دعنا نحاول الترجمة من الفرنسية إلى الإنجليزية."
      ],
      "metadata": {}
    },
    {
      "cell_type": "code",
      "source": [
        "from playsound import playsound\n",
        "import os\n",
        "\n",
        "file_name = 'french.wav'\n",
        "file_path = os.path.join('data', 'translation', file_name)\n",
        "speech, translated_speech = translate_speech(cog_location, cog_key, file_path, to_lang='en', from_lang='fr-FR')\n",
        "result = '{} -> {}'.format(speech, translated_speech)\n",
        "\n",
        "# تشغيل الصوت وإظهار النص المترجم\r\n",
        "playsound(file_path)\n",
        "print(result)"
      ],
      "outputs": [],
      "execution_count": null,
      "metadata": {
        "gather": {
          "logged": 1599695542192
        }
      }
    },
    {
      "cell_type": "markdown",
      "source": [
        "## معرفة المزيد\r\n",
        "\r\n",
        "يمكنك معرفة المزيد حول [النص المترجم](https://docs.microsoft.com/azure/cognitive-services/translator/) والترجمة باستخدام [خدمة الكلام في مستند الخدمة](https://docs.microsoft.com/azure/cognitive-services/speech-service/index-speech-translation)."
      ],
      "metadata": {}
    }
  ],
  "metadata": {
    "language_info": {
      "name": "python",
      "version": "3.6.9",
      "mimetype": "text/x-python",
      "codemirror_mode": {
        "name": "ipython",
        "version": 3
      },
      "pygments_lexer": "ipython3",
      "nbconvert_exporter": "python",
      "file_extension": ".py"
    },
    "kernelspec": {
      "name": "python3-azureml",
      "language": "python",
      "display_name": "Python 3.6 - AzureML"
    },
    "kernel_info": {
      "name": "python3-azureml"
    },
    "nteract": {
      "version": "nteract-front-end@1.0.0"
    }
  },
  "nbformat": 4,
  "nbformat_minor": 2
}