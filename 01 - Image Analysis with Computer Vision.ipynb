{
 "cells": [
  {
   "cell_type": "markdown",
   "metadata": {},
   "source": [
    "<div dir=\"rtl\">\n",
    "    <h1> تحليل الصور باستخدام خدمة الرؤية الخاصة بالكمبيوتر </h1>\n",
    "\n",
    "![روبوت يحمل صورة](./images/computer_vision.jpg)\n",
    "\n",
    "*إنّ الرؤية الخاصة بالكمبيوتر تعتبر* أحد فروع الذكاء الاصطناعي (AI) الذي يستكشف تطوير أنظمة الذكاء الاصطناعي، والتي يمكنها \"رؤية\" العالم، إما في الوقت الفعلي من خلال الكاميرا أو عن طريق تحليل الصور والفيديو. لقد أصبح هذا ممكنًا لأن الصور الرقمية هي أساسا مجرد مصفوفات من قيم البكسل الرقمية *ويمكننا استخدام قيم البكسل هذه كميزاتٍ لتدريب نماذج تعليم الآلات* التي يمكنها تصنيف الصور، واكتشاف الأشياء المخفية في صورة، وحتى إنشاء ملخصات نصية للصور.\n",
    "\n",
    "## استخدم الخدمة المعرفية للرؤية الحاسوبية\n",
    "\n",
    "يتضمن Microsoft Azure عددًا من*الخدمات المعرفية* التي تلخص وظائف الذكاء الاصطناعي الشائعة، بما في ذلك بعض الخدمات التي يمكن أن تساعدك على إنشاء برامج الرؤية الخاصة بالكمبيوتر.\n",
    "\n",
    "توفر الخدمة المعرفية للرؤية الحاسوبية نقطة انطلاق واضحة لاستكشافنا *للرؤية الحاسوبية* في Azure. يستخدم نماذج تدريب الآلات المدربة مسبقًا لتحليل الصور واستخراج المعلومات عنها.\n",
    "\n",
    "على سبيل المثال، لنفترض أن شركة Northwind Traders قررت إنشاء \"متجر ذكي\"، حيث تقوم خدمات الذكاء الاصطناعي بمراقبة المتجر لتحديد العملاء الذين يحتاجون إلى المساعدة، وتوجيه الموظفين لمساعدتهم. باستخدام خدمة الرؤية الخاصة بالكمبيوتر، يمكن تحليل الصور التي التقطتها الكاميرات في جميع أنحاء المتجر لتقديم أوصاف ذات مغزى لما تصوره.\n",
    "\n",
    "### إنشاء مورد خدمات معرفية\n",
    "\n",
    "لنبدأ بإنشاء مورد **خدمات معرفية** باشتراكك في Azure:\n",
    "\n",
    "1. في علامة تبويب مستعرض أخرى، افتح مدخل Azure على https://portal.azure.com، وقم بتسجيل الدخول باستخدام حساب Microsoft الخاص بك.\n",
    "2. انقر فوق **&#65291;زر إنشاء مورد** وابحث عن خدمات معرفية*، وأنشئ مورد **خدمات معرفية** بالإعدادات التالية:\n",
    "    - **الاشتراك**: *اشتراكك في Azure.*\n",
    "    - **مجموعة الموارد**: *حدد أو أنشئ مجموعة موارد باسم فريد*.\n",
    "    - **المنطقة**: *اختر أي منطقة متوفرة:*\n",
    "    - **الاسم**: *أدخل اسمًا فريدًا*.\n",
    "    - **مستوى الأسعار**: S0\n",
    "    - **أؤكد أنني قد قرأت وفهمت الإخطارات:** تم الاختيار.\n",
    "3. انتظر حتى اكتمال النشر. ثم انتقل إلى مورد الخدمات المعرفية الخاص بك، وفي صفحة **نظرة عامة**، انقر على رابط لإدارة مفاتيح الخدمة. ستحتاج إلى نقطة النهاية ومفاتيح للاتصال بمورد الخدمات المعرفية من تطبيقات العميل.\n",
    "\n",
    "### احصل على المفتاح ونقطة النهاية لمورد الخدمات المعرفية.\n",
    "\n",
    "لاستخدام مورد الخدمات المعرفية، تحتاج تطبيقات العميل إلى نقطة النهاية ومفتاح المصادقة:\n",
    "\n",
    "1. في مدخل Azure، في صفحة **المفاتيح ونقطة النهاية** لموارد الخدمة المعرفية، انسخ **Key1** لموردك وقم بلصقه في الرمز أدناه، مع استبدال **YOUR_COG_KEY**.\n",
    "2. انسخ **نقطة النهاية** لموردك، ثم الصقها في الرمز أدناه، لتحل محل **YOUR_COG_ENDPOINT**.\n",
    "3. قم بتشغيل الرمز أدناه عن طريق تحديد الخلية، ثم النقر فوق زر **تشغيل الخلية** (&#9655;) الموجود على يسارها."
   ]
  },
  {
   "cell_type": "code",
   "execution_count": null,
   "metadata": {
    "gather": {
     "logged": 1599691487445
    }
   },
   "outputs": [],
   "source": [
    "cog_key = 'YOUR_COG_KEY'\n",
    "cog_endpoint = 'YOUR_COG_ENDPOINT'\n",
    "\n",
    "print('Ready to use cognitive services at {} using key {}'.format(cog_endpoint, cog_key))"
   ]
  },
  {
   "cell_type": "markdown",
   "metadata": {},
   "source": [
    "الآن، وبعد أن قمت بإعداد المفتاح ونقطة النهاية، يمكنك استخدام خدمة الرؤية الخاصة بالكمبيوتر لتحليل صورة.\n",
    "\n",
    "قم بتشغيل الخلية التالية، للحصول على وصفٍ لصورةٍ في ملف */data/vision/store_cam1.jpg.*"
   ]
  },
  {
   "cell_type": "code",
   "execution_count": null,
   "metadata": {
    "gather": {
     "logged": 1599691518279
    }
   },
   "outputs": [],
   "source": [
    "from azure.cognitiveservices.vision.computervision import ComputerVisionClient\n",
    "from msrest.authentication import CognitiveServicesCredentials\n",
    "from python_code import vision\n",
    "import os\n",
    "%matplotlib inline\n",
    "\n",
    "# احصل على مسارٍ لملف صورةٍ\n",
    "image_path = os.path.join('data', 'vision', 'store_cam1.jpg')\n",
    "\n",
    "# احصل على عميل لخدمة الرؤية الخاصة بالكمبيوتر\n",
    "computervision_client = ComputerVisionClient(cog_endpoint, CognitiveServicesCredentials(cog_key))\n",
    "\n",
    "# احصل على وصفٍ من خدمة الرؤية الخاصة بالكمبيوتر\n",
    "image_stream = open(image_path, \"rb\")\n",
    "description = computervision_client.describe_image_in_stream(image_stream)\n",
    "\n",
    "# عرض الصورة والتعليق (الرمز في helper_scripts / vision.py)\n",
    "vision.show_image_caption(image_path, description)\n"
   ]
  },
  {
   "cell_type": "markdown",
   "metadata": {},
   "source": [
    "يبدو ذلك دقيقًا بشكل لا بأس به.\n",
    "\n",
    "لنجرب صورة أخرى."
   ]
  },
  {
   "cell_type": "code",
   "execution_count": null,
   "metadata": {
    "gather": {
     "logged": 1599691524330
    }
   },
   "outputs": [],
   "source": [
    "# احصل على مسارٍ لملف صورةٍ\n",
    "image_path = os.path.join('data', 'vision', 'store_cam2.jpg')\n",
    "\n",
    "# احصل على وصفٍ من خدمة الرؤية الخاصة بالكمبيوتر\n",
    "image_stream = open(image_path, \"rb\")\n",
    "description = computervision_client.describe_image_in_stream(image_stream)\n",
    "\n",
    "# عرض الصورة والتعليق (الرمز في helper_scripts / vision.py)\n",
    "vision.show_image_caption(image_path, description)"
   ]
  },
  {
   "cell_type": "markdown",
   "metadata": {},
   "source": [
    "مرة أخرى، يبدو أن التسمية التوضيحية المقترحة دقيقة جدًا.\n",
    "\n",
    "## تحليل ميزات الصورة\n",
    "\n",
    "لقد استخدمت حتى الآن خدمة الرؤية الخاصة بالكمبيوتر لإنشاء تعليق وصفي لبضع صورٍ، ولكن هناك الكثير مما يمكنك القيام به. توفر خدمة الرؤية الخاصة بالكمبيوتر مقدرات التحليل، والتي يمكنها استخراج معلومات مفصلة مثل:\n",
    "\n",
    "- مواقع الأنواع الشائعة للأشياء المكتشفة في الصورة.\n",
    "- الموقع والعمر التقريبي للوجوه الإنسانية الموجودة في الصورة.\n",
    "- ما إذا كانت الصورة تحتوي على أي محتوى إباحي أو شائنِ أو دموي.\n",
    "- العلامات ذات الصلة التي يمكن ربطها بالصورة في قاعدة البيانات لتسهيل العثور عليها.\n",
    "\n",
    "قم بتشغيل الرمز التالي لتحليل صورة المتسوق."
   ]
  },
  {
   "cell_type": "code",
   "execution_count": null,
   "metadata": {
    "gather": {
     "logged": 1599691530747
    }
   },
   "outputs": [],
   "source": [
    "# احصل على مسارٍ لملف صورةٍ\n",
    "image_path = os.path.join('data', 'vision', 'store_cam1.jpg')\n",
    "\n",
    "# حدد الخاصيات التي نريد تحليلها\n",
    "features = ['Description', 'Tags', 'Adult', 'Objects', 'Faces']\n",
    "\n",
    "# احصل على تحليلٍ من خدمة الرؤية الخاصة بالكمبيوتر\n",
    "image_stream = open(image_path, \"rb\")\n",
    "analysis = computervision_client.analyze_image_in_stream(image_stream, visual_features=features)\n",
    "\n",
    "# إظهار نتائج التحليل (الرمز في helper_scripts / vision.py)\n",
    "vision.show_image_analysis(image_path, analysis)"
   ]
  },
  {
   "cell_type": "markdown",
   "metadata": {},
   "source": [
    "## معرفة المزيد\n",
    "\n",
    "بالإضافة إلى الإمكانيات التي قمت باستكشافها في هذه الوثيقة، تتضمن قدرات خدمة الرؤية المعرفية الخاصة بالكمبيوتر ما يلي:\n",
    "\n",
    "- التعرف على المشاهير بالصور.\n",
    "- كشف شعارات العلامة التجارية في صورة.\n",
    "- قم بإجراء التعرف البصري على الحروف (OCR) لقراءة نص في صورة.\n",
    "\n",
    "لمعرفة المزيد حول خدمة الرؤية المعرفية الخاصة بالكمبيوتر، [راجع مستندات الرؤية الخاصة بالكمبيوتر](https://docs.microsoft.com/azure/cognitive-services/computer-vision/)\n"
   ]
  }
 ],
 "metadata": {
  "direction": "ltr",
  "kernel_info": {
   "name": "python3-azureml"
  },
  "kernelspec": {
   "display_name": "Python 3",
   "language": "python",
   "name": "python3"
  },
  "language_info": {
   "codemirror_mode": {
    "name": "ipython",
    "version": 3
   },
   "file_extension": ".py",
   "mimetype": "text/x-python",
   "name": "python",
   "nbconvert_exporter": "python",
   "pygments_lexer": "ipython3",
   "version": "3.8.8"
  },
  "nteract": {
   "version": "nteract-front-end@1.0.0"
  }
 },
 "nbformat": 4,
 "nbformat_minor": 2
}
