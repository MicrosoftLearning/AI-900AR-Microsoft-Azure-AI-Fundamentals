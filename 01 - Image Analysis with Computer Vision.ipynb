{
  "cells": [
    {
      "cell_type": "markdown",
      "source": [
        "# <div dir="rtl" align="right">تحليل الصور باستخدام خدمة الرؤية الخاصة بالكمبيوتر</div>\r\n",
        "\r\n",
        "![روبوت يحمل صورة](./images/computer_vision.jpg)\r\n",
        "\r\n",
        "*إنّ الرؤية الخاصة بالكمبيوتر تعتبر* أحد فروع الذكاء الاصطناعي (AI) الذي يستكشف تطوير أنظمة الذكاء الاصطناعي، والتي يمكنها \"رؤية\" العالم، إما في الوقت الفعلي من خلال الكاميرا أو عن طريق تحليل الصور والفيديو. لقد أصبح هذا ممكنًا لأن الصور الرقمية هي أساسا مجرد مصفوفات من قيم البكسل الرقمية *ويمكننا استخدام قيم البكسل هذه كميزاتٍ لتدريب نماذج تعليم الآلات* التي يمكنها تصنيف الصور، واكتشاف الأشياء المخفية في صورة، وحتى إنشاء ملخصات نصية للصور.\r\n",
        "\r\n",
        "## استخدم الخدمة المعرفية للرؤية الحاسوبية\r\n",
        "\r\n",
        "يتضمن Microsoft Azure عددًا من*الخدمات المعرفية* التي تلخص وظائف الذكاء الاصطناعي الشائعة، بما في ذلك بعض الخدمات التي يمكن أن تساعدك على إنشاء برامج الرؤية الخاصة بالكمبيوتر.\r\n",
        "\r\n",
        "توفر الخدمة المعرفية للرؤية الحاسوبية نقطة انطلاق واضحة لاستكشافنا *للرؤية الحاسوبية* في Azure. يستخدم نماذج تدريب الآلات المدربة مسبقًا لتحليل الصور واستخراج المعلومات عنها.\r\n",
        "\r\n",
        "على سبيل المثال، لنفترض أن شركة Northwind Traders قررت إنشاء \"متجر ذكي\"، حيث تقوم خدمات الذكاء الاصطناعي بمراقبة المتجر لتحديد العملاء الذين يحتاجون إلى المساعدة، وتوجيه الموظفين لمساعدتهم. باستخدام خدمة الرؤية الخاصة بالكمبيوتر، يمكن تحليل الصور التي التقطتها الكاميرات في جميع أنحاء المتجر لتقديم أوصاف ذات مغزى لما تصوره.\r\n",
        "\r\n",
        "### إنشاء مورد خدمات معرفية\r\n",
        "\r\n",
        "لنبدأ بإنشاء مورد **خدمات معرفية** باشتراكك في Azure:\r\n",
        "\r\n",
        "1. في علامة تبويب مستعرض أخرى، افتح مدخل Azure على https://portal.azure.com، وقم بتسجيل الدخول باستخدام حساب Microsoft الخاص بك.\r\n",
        "2. انقر فوق**&#65291;زر إنشاء مورد** وابحث عن خدمات معرفية*، وأنشئ مورد *خدمات معرفية** بالإعدادات التالية:\r\n",
        "    - **الاشتراك**: *اشتراكك في Azure.*\r\n",
        "    -**مجموعة الموارد**: *حدد أو أنشئ مجموعة موارد باسم فريد*.\r\n",
        "    -**المنطقة**: *اختر أي منطقة متوفرة:*\r\n",
        "    -**الاسم**: *أدخل اسمًا فريدًا*.\r\n",
        "    - **مستوى الأسعار**: S0\r\n",
        "    - **أؤكد أنني قد قرأت وفهمت الإخطارات:** تم الاختيار.\r\n",
        "3. انتظر حتى اكتمال النشر. ثم انتقل إلى مورد الخدمات المعرفية الخاص بك، وفي صفحة **نظرة عامة**، انقر على رابط لإدارة مفاتيح الخدمة. ستحتاج إلى نقطة النهاية ومفاتيح للاتصال بمورد الخدمات المعرفية من تطبيقات العميل.\r\n",
        "\r\n",
        "### احصل على المفتاح ونقطة النهاية لمورد الخدمات المعرفية.\r\n",
        "\r\n",
        "لاستخدام مورد الخدمات المعرفية، تحتاج تطبيقات العميل إلى نقطة النهاية ومفتاح المصادقة:\r\n",
        "\r\n",
        "1. في مدخل Azure، في صفحة **المفاتيح ونقطة النهاية** لموارد الخدمة المعرفية، انسخ **Key1** لموردك وقم بلصقه في الرمز أدناه، مع استبدال **YOUR_COG_KEY**.\r\n",
        "2. انسخ **نقطة النهاية** لموردك، ثم الصقها في الرمز أدناه، لتحل محل **YOUR_COG_ENDPOINT**.\r\n",
        "3. قم بتشغيل الرمز أدناه عن طريق تحديد الخلية، ثم النقر فوق زر **تشغيل الخلية** (& #9655) الموجود على يسارها."
      ],
      "metadata": {}
    },
    {
      "cell_type": "code",
      "source": [
        "cog_key = 'YOUR_COG_KEY'\n",
        "cog_endpoint = 'YOUR_COG_ENDPOINT'\n",
        "\n",
        "print('Ready to use cognitive services at {} using key {}'.format(cog_endpoint, cog_key))"
      ],
      "outputs": [],
      "execution_count": null,
      "metadata": {
        "gather": {
          "logged": 1599691487445
        }
      }
    },
    {
      "cell_type": "markdown",
      "source": [
        "الآن، وبعد أن قمت بإعداد المفتاح ونقطة النهاية، يمكنك استخدام خدمة الرؤية الخاصة بالكمبيوتر لتحليل صورة.\r\n",
        "\r\n",
        "قم بتشغيل الخلية التالية، للحصول على وصفٍ لصورةٍ في ملف */data/vision/store_cam1.jpg.*"
      ],
      "metadata": {}
    },
    {
      "cell_type": "code",
      "source": [
        "from azure.cognitiveservices.vision.computervision import ComputerVisionClient\n",
        "from msrest.authentication import CognitiveServicesCredentials\n",
        "from python_code import vision\n",
        "import os\n",
        "%matplotlib inline\n",
        "\n",
        "# احصل على مسارٍ لملف صورةٍ\r\n",
        "image_path = os.path.join('data', 'vision', 'store_cam1.jpg')\n",
        "\n",
        "# احصل على عميل لخدمة الرؤية الخاصة بالكمبيوتر\r\n",
        "computervision_client = ComputerVisionClient(cog_endpoint, CognitiveServicesCredentials(cog_key))\n",
        "\n",
        "# احصل على وصفٍ من خدمة الرؤية الخاصة بالكمبيوتر\r\n",
        "image_stream = open(image_path, \"rb\")\n",
        "description = computervision_client.describe_image_in_stream(image_stream)\n",
        "\n",
        "# عرض الصورة والتعليق (الرمز في helper_scripts / vision.py)\r\n",
        "vision.show_image_caption(image_path, description)\n"
      ],
      "outputs": [],
      "execution_count": null,
      "metadata": {
        "gather": {
          "logged": 1599691518279
        }
      }
    },
    {
      "cell_type": "markdown",
      "source": [
        "يبدو ذلك دقيقًا بشكل لا بأس به.\r\n",
        "\r\n",
        "لنجرب صورة أخرى."
      ],
      "metadata": {}
    },
    {
      "cell_type": "code",
      "source": [
        "# احصل على مسارٍ لملف صورةٍ\r\n",
        "image_path = os.path.join('data', 'vision', 'store_cam2.jpg')\n",
        "\n",
        "# احصل على وصفٍ من خدمة الرؤية الخاصة بالكمبيوتر\r\n",
        "image_stream = open(image_path, \"rb\")\n",
        "description = computervision_client.describe_image_in_stream(image_stream)\n",
        "\n",
        "# عرض الصورة والتعليق (الرمز في helper_scripts / vision.py)\r\n",
        "vision.show_image_caption(image_path, description)"
      ],
      "outputs": [],
      "execution_count": null,
      "metadata": {
        "gather": {
          "logged": 1599691524330
        }
      }
    },
    {
      "cell_type": "markdown",
      "source": [
        "مرة أخرى، يبدو أن التسمية التوضيحية المقترحة دقيقة جدًا.\r\n",
        "\r\n",
        "## تحليل ميزات الصورة\r\n",
        "\r\n",
        "لقد استخدمت حتى الآن خدمة الرؤية الخاصة بالكمبيوتر لإنشاء تعليق وصفي لبضع صورٍ، ولكن هناك الكثير مما يمكنك القيام به. توفر خدمة الرؤية الخاصة بالكمبيوتر مقدرات التحليل، والتي يمكنها استخراج معلومات مفصلة مثل:\r\n",
        "\r\n",
        "- مواقع الأنواع الشائعة للأشياء المكتشفة في الصورة.\r\n",
        "- الموقع والعمر التقريبي للوجوه الإنسانية الموجودة في الصورة.\r\n",
        "- ما إذا كانت الصورة تحتوي على أي محتوى إباحي أو شائنِ أو دموي.\r\n",
        "- العلامات ذات الصلة التي يمكن ربطها بالصورة في قاعدة البيانات لتسهيل العثور عليها.\r\n",
        "\r\n",
        "قم بتشغيل الرمز التالي لتحليل صورة المتسوق."
      ],
      "metadata": {}
    },
    {
      "cell_type": "code",
      "source": [
        "# احصل على مسارٍ لملف صورةٍ\r\n",
        "image_path = os.path.join('data', 'vision', 'store_cam1.jpg')\n",
        "\n",
        "# حدد الخاصيات التي نريد تحليلها\r\n",
        "features = ['Description', 'Tags', 'Adult', 'Objects', 'Faces']\n",
        "\n",
        "# احصل على تحليلٍ من خدمة الرؤية الخاصة بالكمبيوتر\r\n",
        "image_stream = open(image_path, \"rb\")\n",
        "analysis = computervision_client.analyze_image_in_stream(image_stream, visual_features=features)\n",
        "\n",
        "# إظهار نتائج التحليل (الرمز في helper_scripts / vision.py)\r\n",
        "vision.show_image_analysis(image_path, analysis)"
      ],
      "outputs": [],
      "execution_count": null,
      "metadata": {
        "gather": {
          "logged": 1599691530747
        }
      }
    },
    {
      "cell_type": "markdown",
      "source": [
        "## معرفة المزيد\r\n",
        "\r\n",
        "بالإضافة إلى الإمكانيات التي قمت باستكشافها في هذه الوثيقة، تتضمن قدرات خدمة الرؤية المعرفية الخاصة بالكمبيوتر ما يلي:\r\n",
        "\r\n",
        "- التعرف على المشاهير بالصور.\r\n",
        "- كشف شعارات العلامة التجارية في صورة.\r\n",
        "- قم بإجراء التعرف البصري على الحروف (OCR) لقراءة نص في صورة.\r\n",
        "\r\n",
        "لمعرفة المزيد حول خدمة الرؤية المعرفية الخاصة بالكمبيوتر، [راجع مستندات الرؤية الخاصة بالكمبيوتر](https://docs.microsoft.com/azure/cognitive-services/computer-vision/)\r\n"
      ],
      "metadata": {}
    }
  ],
  "metadata": {
    "language_info": {
      "name": "python",
      "version": "3.6.9",
      "mimetype": "text/x-python",
      "codemirror_mode": {
        "name": "ipython",
        "version": 3
      },
      "pygments_lexer": "ipython3",
      "nbconvert_exporter": "python",
      "file_extension": ".py"
    },
    "kernelspec": {
      "name": "python3-azureml",
      "language": "python",
      "display_name": "Python 3.6 - AzureML"
    },
    "kernel_info": {
      "name": "python3-azureml"
    },
    "nteract": {
      "version": "nteract-front-end@1.0.0"
    }
  },
  "nbformat": 4,
  "nbformat_minor": 2
}