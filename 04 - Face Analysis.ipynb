{
  "cells": [
    {
      "cell_type": "markdown",
      "source": [
        "# كشف وتحليل الوجوه\r\n",
        "\r\n",
        "غالبًا ما تتطلب حلول الرؤية الخاصة بالكمبيوتر برنامج ذكاء اصطناعي (AI) لتتمكن من اكتشاف الوجوه البشرية أو تحليلها أو التعرف عليها. أو على سبيل المثال، لنفترض أن شركة البيع بالتجزئة Northwind Traders قررت إنشاء \"متجر ذكي\"، حيث تقوم خدمات الذكاء الاصطناعي بمراقبة المتجر لتحديد العملاء الذين يحتاجون إلى المساعدة، وتوجيه الموظفين لمساعدتهم. تتمثل إحدى طرق تحقيق ذلك في إجراء اكتشاف الوجه وتحليله - بمعنى آخر، تحديد ما إذا كان هناك أي وجوه في الصور، وإذا كان هنالك، تحليل ميزاتها.\r\n",
        "\r\n",
        "![روبوت يحلل الوجه](./images/face_analysis.jpg)\r\n",
        "\r\n",
        "## استخدم خدمة معرف الوجه للكشف عن الوجوه\r\n",
        "\r\n",
        "افترض أن نظام المتجر الذكي الذي تريد شركة Northwind Traders إنشاؤه يحتاج إلى أن يكون قادرًا على اكتشاف العملاء وتحليل ميزات وجوههم. في Microsoft Azure، يمكنك استخدام **Face**، وهو جزء من خدمات Azure المعرفية للقيام بذلك.\r\n",
        "\r\n",
        "### إنشاء مورد خدمات معرفية\r\n",
        "\r\n",
        "لنبدأ بإنشاء مورد **خدمات معرفية** في اشتراكك في Azure.\r\n",
        "\r\n",
        "> **ملاحظة**: إذا كان لديك بالفعل مورد خدمات معرفية، فقط افتح **صفحة البدء السريع** الخاصة به في مدخل Azure وانسخ مفتاحه ونقطة النهاية في الخانة أدناه. خلاف ذلك، اتبع الخطوات أدناه لإنشاء واحدة.\r\n",
        "\r\n",
        "1. في علامة تبويب مستعرض أخرى، افتح مدخل Azure على https://portal.azure.com، وقم بتسجيل الدخول باستخدام حساب Microsoft الخاص بك.\r\n",
        "2. انقر فوق **&#65291;وقم بإنشاء زر مورد** وابحث عن *خدمات معرفية*, وأنشئ مورد **خدمات معرفية** بالإعدادات التالية:\r\n",
        "    - **الاشتراك**: *اشتراكك في Azure.*\r\n",
        "    - **مجموعة الموارد**: *حدد أو أنشئ مجموعة موارد باسم فريد*.\r\n",
        "    - **المنطقة**: *اختر أي منطقة متوفرة:*\r\n",
        "    - **الاسم:** *أدخل اسمًا فريدًا*.\r\n",
        "    - **مستوى الأسعار**: S0\r\n",
        "    - **أؤكد أنني قد قرأت وفهمت الإخطارات**: تم الاختيار.\r\n",
        "3. انتظر حتى اكتمال النشر. ثم انتقل إلى مورد الخدمات المعرفية الخاص بك، وفي صفحة **نظرة عامة**، انقر على رابط لإدارة مفاتيح الخدمة. ستحتاج إلى نقطة النهاية والمفاتيح للاتصال بمورد الخدمات المعرفية من تطبيقات العميل.\r\n",
        "\r\n",
        "### احصل على المفتاح ونقطة النهاية لمورد الخدمات المعرفية\r\n",
        "\r\n",
        "لاستخدام مورد الخدمات المعرفية، تحتاج تطبيقات العميل إلى نقطة النهاية ومفتاح المصادقة:\r\n",
        "\r\n",
        "1. في مدخل Azure، في صفحة **المفاتيح ونقطة النهاية** لمورد الخدمة المعرفية، انسخ **Key1** لموردك وقم بلصقه في الرمز أدناه، مع استبدال **YOUR_COG_KEY**.\r\n",
        "\r\n",
        "2. انسخ **نقطة النهاية** لموردك وألصقها في الرمز أدناه، لتحل محل **YOUR_COG_ENDPOINT**.\r\n",
        "\r\n",
        "3. قم بتشغيل الرمز في الخانة أدناه عن طريق النقر فوق زر تشغيل الخلية <span>&#9655;</span> (في الجزء العلوي الأيسر من الخلية)."
      ],
      "metadata": {}
    },
    {
      "cell_type": "code",
      "source": [
        "cog_key = 'YOUR_COG_KEY'\n",
        "cog_endpoint = 'YOUR_COG_ENDPOINT'\n",
        "\n",
        "print('Ready to use cognitive services at {} using key {}'.format(cog_endpoint, cog_key))"
      ],
      "outputs": [],
      "execution_count": null,
      "metadata": {
        "gather": {
          "logged": 1599693964655
        }
      }
    },
    {
      "cell_type": "markdown",
      "source": [
        "الآن بعد أن أصبح لديك مورد خدمات معرفية، يمكنك استخدام خدمة الوجه لاكتشاف الوجوه البشرية في المتجر.\r\n",
        "\r\n",
        "قم بتشغيل خلية التعليمات البرمجية أدناه لمشاهدة مثال."
      ],
      "metadata": {}
    },
    {
      "cell_type": "code",
      "source": [
        "from azure.cognitiveservices.vision.face import FaceClient\n",
        "from msrest.authentication import CognitiveServicesCredentials\n",
        "from python_code import faces\n",
        "import os\n",
        "%matplotlib inline\n",
        "\n",
        "# قم بإنشاء عميل الكشف عن الوجه.\r\n",
        "face_client = FaceClient(cog_endpoint, CognitiveServicesCredentials(cog_key))\n",
        "\n",
        "# إضافة صورة\r\n",
        "image_path = os.path.join('data', 'face', 'store_cam2.jpg')\n",
        "image_stream = open(image_path, \"rb\")\n",
        "\n",
        "# كشف الوجوه\r\n",
        "detected_faces = face_client.face.detect_with_stream(image=image_stream)\n",
        "\n",
        "# اعرض الوجوه (الرمز في python_code / faces.py)\r\n",
        "faces.show_faces(image_path, detected_faces)"
      ],
      "outputs": [],
      "execution_count": null,
      "metadata": {
        "gather": {
          "logged": 1599693970079
        }
      }
    },
    {
      "cell_type": "markdown",
      "source": [
        "يتم تعيين معرف فريد لكل وجه تم تحديده، بحيث يمكن للتطبيق الخاص بك تحديد كل وجه فردي تم الكشف عنه.\r\n",
        "\r\n",
        "قم بتشغيل الخانة أدناه لرؤية المعرفات لبعض وجوه المتسوقين."
      ],
      "metadata": {}
    },
    {
      "cell_type": "code",
      "source": [
        "# إضافة صورة\r\n",
        "image_path = os.path.join('data', 'face', 'store_cam3.jpg')\n",
        "image_stream = open(image_path, \"rb\")\n",
        "\n",
        "# كشف الوجوه\r\n",
        "detected_faces = face_client.face.detect_with_stream(image=image_stream)\n",
        "\n",
        "# اعرض الوجوه (الرمز في python_code / faces.py)\r\n",
        "faces.show_faces(image_path, detected_faces, show_id=True)"
      ],
      "outputs": [],
      "execution_count": null,
      "metadata": {
        "gather": {
          "logged": 1599693970447
        }
      }
    },
    {
      "cell_type": "markdown",
      "source": [
        "## تحليل سمات الوجه\r\n",
        "\r\n",
        "يمكن للوجه أن يفعل أكثر بكثير من مجرد الكشف عن الوجوه. يمكنه أيضًا تحليل ملامح الوجه وتعبيراته لاقتراح العمر والحالة العاطفية؛ على سبيل المثال، قم بتشغيل الرمز أدناه لتحليل سمات وجه المتسوق."
      ],
      "metadata": {}
    },
    {
      "cell_type": "code",
      "source": [
        "# إضافة صورة\r\n",
        "image_path = os.path.join('data', 'face', 'store_cam1.jpg')\n",
        "image_stream = open(image_path, \"rb\")\n",
        "\n",
        "# كشف الوجوه وسمات الوجه المحددة\r\n",
        "attributes = ['age', 'emotion']\n",
        "detected_faces = face_client.face.detect_with_stream(image=image_stream, return_face_attributes=attributes)\n",
        "\n",
        "# اعرض الوجوه والسمات (الرمز في python_code / faces.py)\r\n",
        "faces.show_face_attributes(image_path, detected_faces)"
      ],
      "outputs": [],
      "execution_count": null,
      "metadata": {
        "gather": {
          "logged": 1599693971321
        }
      }
    },
    {
      "cell_type": "markdown",
      "source": [
        "بناءً على نتائج المشاعر المكتشفة للعميل في الصورة، يبدو أنه سعيدٌ جدًا بتجربة التسوق.\r\n",
        "\r\n",
        "## ابحث عن وجوه متشابهة \r\n",
        "\r\n",
        "تُستخدم معرفات الوجه التي تم إنشاؤها لكل وجه تم كشفه لتحديد عمليات اكتشاف الوجه بشكل فردي. يمكنك استخدام هذه المعرفات لمقارنة الوجه المكتشف بالوجوه المكتشفة سابقًا، والعثور على الوجوه ذات الميزات المماثلة.\r\n",
        "\r\n",
        "على سبيل المثال، قم بتشغيل الخانة أدناه لمقارنة المتسوق في صورة مع المتسوقين في صورة أخر، واعثر على وجه مطابق."
      ],
      "metadata": {}
    },
    {
      "cell_type": "code",
      "source": [
        "# احصل على معرف الوجه الأول في الصورة الأولى\r\n",
        "image_1_path = os.path.join('data', 'face', 'store_cam3.jpg')\n",
        "image_1_stream = open(image_1_path, \"rb\")\n",
        "image_1_faces = face_client.face.detect_with_stream(image=image_1_stream)\n",
        "face_1 = image_1_faces[0]\n",
        "\n",
        "# احصل على معرفات الوجه في صورة ثانية\r\n",
        "image_2_path = os.path.join('data', 'face', 'store_cam2.jpg')\n",
        "image_2_stream = open(image_2_path, \"rb\")\n",
        "image_2_faces = face_client.face.detect_with_stream(image=image_2_stream)\n",
        "image_2_face_ids = list(map(lambda face: face.face_id, image_2_faces))\n",
        "\n",
        "# ابحث عن وجوه في الصورة 2 مشابهة لتلك الموجودة في الصورة 1\r\n",
        "similar_faces = face_client.face.find_similar(face_id=face_1.face_id, face_ids=image_2_face_ids)\n",
        "\n",
        "# أظهر الوجه في الصورة 1، والوجوه المتشابهة في الصورة 2 (الرمز في python_code / face.py)\r\n",
        "faces.show_similar_faces(image_1_path, face_1, image_2_path, image_2_faces, similar_faces)"
      ],
      "outputs": [],
      "execution_count": null,
      "metadata": {
        "gather": {
          "logged": 1599693972555
        }
      }
    },
    {
      "cell_type": "markdown",
      "source": [
        "## التعرف على الوجوه\r\n",
        "\r\n",
        "لقد رأيت حتى الآن أن Face يمكنه الكشف عن الوجوه وميزاته، ويمكنه تحديد وجهين متشابهين. يمكنك أن تأخذ الأمور خطوة إلى الأمام من خلال تنفيذ حل *التعرف على الوجه* الذي تقوم فيه بتدريب الوجه على التعرف على وجه شخص معين. يمكن أن يكون هذا مفيدًا في مجموعة متنوعة من الوضعيات، مثل الوسم تلقائيًا على صور الأصدقاء في أحد تطبيقات الوسائط الاجتماعية، أو استخدام التعرف على الوجه كجزء من نظام الهوية القياسية للتحقق.\r\n",
        "\r\n",
        "لمعرفة كيفية عمل ذلك، لنفترض أن شركة Northwind Traders تريد استخدام التعرف على الوجه للتأكد من أن الموظفين المعتمدين فقط في قسم تكنولوجيا المعلومات يمكنهم الوصول إلى الأنظمة الآمنة.\r\n",
        "\r\n",
        "سنبدأ بإنشاء *مجموعة أشخاص* لتمثيل الموظفين المرخص لهم."
      ],
      "metadata": {}
    },
    {
      "cell_type": "code",
      "source": [
        "group_id = 'employee_group_id'\n",
        "try:\n",
        "    # Delete group if it already exists\n",
        "    face_client.person_group.delete(group_id)\n",
        "except Exception as ex:\n",
        "    print(ex.message)\n",
        "finally:\n",
        "    face_client.person_group.create(group_id, 'employees')\n",
        "    print ('Group created!')"
      ],
      "outputs": [],
      "execution_count": null,
      "metadata": {
        "gather": {
          "logged": 1599693973492
        }
      }
    },
    {
      "cell_type": "markdown",
      "source": [
        "الآن بعد أن وجدت *مجموعة الأشخاص*، يمكننا إضافة شخص لكل *موظف* نريد إدخاله في المجموعة، ثم تسجيل صور متعددة لكل شخص حتى يتمكن Face من التعرف على سمات الوجه المميزة لكل شخص. من الناحية المثالية، تُظهر الصور نفس الشخص في أوضاع مختلفة وبتعبيرات وجه مختلفة.\r\n",
        "\r\n",
        "سنضيف موظفًا واحدًا اسمه ويندل، ونسجل ثلاث صور للموظف."
      ],
      "metadata": {}
    },
    {
      "cell_type": "code",
      "source": [
        "import matplotlib.pyplot as plt\n",
        "from PIL import Image\n",
        "import os\n",
        "%matplotlib inline\n",
        "\n",
        "# إضافة شخص (ًهو ويندل) إلى المجموعة\r\n",
        "wendell = face_client.person_group_person.create(group_id, 'Wendell')\n",
        "\n",
        "# الحصول على صورة ويندل\r\n",
        "folder = os.path.join('data', 'face', 'wendell')\n",
        "wendell_pics = os.listdir(folder)\n",
        "\n",
        "# سجل الصور\r\n",
        "i = 0\n",
        "fig = plt.figure(figsize=(8, 8))\n",
        "for pic in wendell_pics:\n",
        "    # Add each photo to person in person group\n",
        "    img_path = os.path.join(folder, pic)\n",
        "    img_stream = open(img_path, \"rb\")\n",
        "    face_client.person_group_person.add_face_from_stream(group_id, wendell.person_id, img_stream)\n",
        "\n",
        "    # Display each image\n",
        "    img = Image.open(img_path)\n",
        "    i +=1\n",
        "    a=fig.add_subplot(1,len(wendell_pics), i)\n",
        "    a.axis('off')\n",
        "    imgplot = plt.imshow(img)\n",
        "plt.show()"
      ],
      "outputs": [],
      "execution_count": null,
      "metadata": {
        "gather": {
          "logged": 1599693976898
        }
      }
    },
    {
      "cell_type": "markdown",
      "source": [
        "مع إضافة الشخص وتسجيل الصور، يمكننا الآن تدريب Face على التعرف على كل شخص."
      ],
      "metadata": {}
    },
    {
      "cell_type": "code",
      "source": [
        "face_client.person_group.train(group_id)\n",
        "print('Trained!')"
      ],
      "outputs": [],
      "execution_count": null,
      "metadata": {
        "gather": {
          "logged": 1599693977046
        }
      }
    },
    {
      "cell_type": "markdown",
      "source": [
        "الآن، مع النموذج الذي تم تدريبه، يمكنك استخدامه لتحديد الوجوه التي تم التعرف عليها في الصورة."
      ],
      "metadata": {}
    },
    {
      "cell_type": "code",
      "source": [
        "# احصل على معرفات الوجه في صورة ثانية\r\n",
        "image_path = os.path.join('data', 'face', 'employees.jpg')\n",
        "image_stream = open(image_path, \"rb\")\n",
        "image_faces = face_client.face.detect_with_stream(image=image_stream)\n",
        "image_face_ids = list(map(lambda face: face.face_id, image_faces))\n",
        "\n",
        "# تعرف على أسماء الوجوه\r\n",
        "face_names = {}\n",
        "recognized_faces = face_client.face.identify(image_face_ids, group_id)\n",
        "for face in recognized_faces:\n",
        "    person_name = face_client.person_group_person.get(group_id, face.candidates[0].person_id).name\n",
        "    face_names[face.face_id] = person_name\n",
        "\n",
        "# إظهار الوجوه المعرفة\r\n",
        "faces.show_recognized_faces(image_path, image_faces, face_names)\n",
        "\n"
      ],
      "outputs": [],
      "execution_count": null,
      "metadata": {
        "gather": {
          "logged": 1599693994820
        }
      }
    },
    {
      "cell_type": "markdown",
      "source": [
        "## معرفة المزيد\r\n",
        "\r\n",
        "لمعرفة المزيد حول خدمة Face المعرفية، راجع [مستندات Face](https://docs.microsoft.com/azure/cognitive-services/face/)\r\n"
      ],
      "metadata": {}
    }
  ],
  "metadata": {
    "language_info": {
      "name": "python",
      "version": "3.6.9",
      "mimetype": "text/x-python",
      "codemirror_mode": {
        "name": "ipython",
        "version": 3
      },
      "pygments_lexer": "ipython3",
      "nbconvert_exporter": "python",
      "file_extension": ".py"
    },
    "kernelspec": {
      "name": "python3-azureml",
      "language": "python",
      "display_name": "Python 3.6 - AzureML"
    },
    "kernel_info": {
      "name": "python3-azureml"
    },
    "nteract": {
      "version": "nteract-front-end@1.0.0"
    }
  },
  "nbformat": 4,
  "nbformat_minor": 2
}