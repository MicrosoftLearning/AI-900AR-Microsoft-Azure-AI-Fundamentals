{
  "cells": [
    {
      "cell_type": "markdown",
      "source": [
        "# تحليلات النص\r\n",
        "\r\n",
        "معالجة النصوص الطبيعية (NLP) هي فرع من فروع الذكاء الاصطناعي (AI) التي تتعامل مع اللغة المكتوبة والمنطوقة. يمكنك استخدام NLP لبناء برامج تستخرج المعنى الدلالي من النص أو الكلام، أو تصوغ إجابات ذات معنى في اللغة الطبيعية.\r\n",
        "\r\n",
        "تتضمن *الخدمات المعرفية* في Microsoft Azure لخدمة *تحليلات النصوص*، التي توفر بعض إمكانيات NLP خارج الصندوق، بما في ذلك تحديد العبارات الأساسية في النص، وتصنيف النص بناءً على المشاعر.\r\n",
        "\r\n",
        "![روبوت يقرأ دفتر ملاحظات](./images/NLP.jpg)\r\n",
        "\r\n",
        "على سبيل المثال، لنفترض أن منظمة* Margie's Travel* الخيالية تشجع العملاء على إرسال مراجعات للإقامات الفندقية. يمكنك استخدام خدمة تحليلات النصوص لتلخيص المراجعات عن طريق استخراج العبارات الأساسية، وتحديد المراجعات الإيجابية والسلبية، أو تحليل نص المراجعة للإشارة إلى الأشياء المعروفة مثل المواقع أو الأشخاص.\r\n",
        "\r\n",
        "## عرض مستندات المراجعات\r\n",
        "\r\n",
        "لنبدأ بإلقاء نظرة على بعض مراجعات وتقييمات الفنادق التي تركها العملاء.\r\n",
        "\r\n",
        "التقييمات في ملفات نصية. لرؤيتها، ما عليك سوى تشغيل الرمز أدناه بالنقر فوق الزر **تشغيل الخانة** (&#9655;) على يسار الخانة."
      ],
      "metadata": {}
    },
    {
      "cell_type": "code",
      "source": [
        "import os\n",
        "\n",
        "# اقرأ المراجعات في مجلد / المراجعات / البيانات\r\n",
        "reviews_folder = os.path.join('data', 'text', 'reviews')\n",
        "\n",
        "# أنشئ مجموعة من المراجعات بخصائص المعرف (اسم الملف) والنص (المحتويات)\r\n",
        "reviews = []\n",
        "for file_name in os.listdir(reviews_folder):\n",
        "    review_text = open(os.path.join(reviews_folder, file_name)).read()\n",
        "    review = {\"id\": file_name, \"text\": review_text}\n",
        "    reviews.append(review)\n",
        "\n",
        "for review_num in range(len(reviews)):\n",
        "    # print the review text\n",
        "    print('{}\\n{}\\n'.format(reviews[review_num]['id'], reviews[review_num]['text']))"
      ],
      "outputs": [],
      "execution_count": null,
      "metadata": {
        "gather": {
          "logged": 1599694576263
        }
      }
    },
    {
      "cell_type": "markdown",
      "source": [
        "## إنشاء مورد خدمات معرفية\r\n",
        "\r\n",
        "لتحليل النص في هذه المراجعات، يمكنك استخدام خدمة **تحليلات النص** المعرفية. لاستخدام هذا، تحتاج إلى توفير إما مورد خدمات **تحليل النصوص** أو** خدمات معرفية** في اشتراك Azure الخاص بك (استخدم مورد تحليل النصوص إذا كانت هذه هي الخدمة الوحيدة التي تخطط لاستخدامها أو إذا كنت تريد متابعة استخدامها بشكل منفصل؛ وإلا يمكنك استخدام مورد الخدمات المعرفية لدمج خدمة تحليل النصوص مع الخدمات المعرفية الأخرى - مما يتيح للمطورين استخدام نقطة نهاية واحدة ومفتاح للوصول إليها.)\r\n",
        "\r\n",
        "إذا لم يكن لديك واحد بالفعل، فاستخدم الخطوات التالية لإنشاء مورد **خدمات معرفية**في اشتراكك في Azure:\r\n",
        "\r\n",
        "> **ملاحظة**: إذا كان لديك بالفعل مورد خدمات معرفية، فقط افتح صفحة **البدء السريع** الخاصة به في مدخل Azure وانسخ مفتاحه ونقطة النهاية إلى الخانة أدناه. خلاف ذلك، اتبع الخطوات أدناه لإنشاء واحدة.\r\n",
        "\r\n",
        "1. في مستعرض آخر، افتح مدخل Azure على https://portal.azure.com، وقم بتسجيل الدخول باستخدام حساب Microsoft الخاص بك.\r\n",
        "2. انقر فوق** زر إنشاء **&#65291; *مورد 65291، وابحث عن *خدمات معرفية**، وأنشئ مورد **خدمات معرفية بالإعدادات التالية:\r\n",
        "    - **الاشتراك**: *اشتراكك في Azure.*\r\n",
        "    - **مجموعة الموارد**: *حدد أو أنشئ مجموعة موارد باسم فريد*.\r\n",
        "    - **المنطقة**: *اختر أي منطقة متوفرة:*\r\n",
        "    - **الاسم:** *أدخل اسمًا فريدًا*.\r\n",
        "    - **مستوى الأسعار**: S0\r\n",
        "    - **أؤكد أنني قد قرأت وفهمت الإخطارات**: تم الاختيار.\r\n",
        "3. انتظر حتى اكتمال النشر. ثم انتقل إلى مورد الخدمات المعرفية الخاص بك، وفي صفحة **نظرة عامة**، انقر على رابط لإدارة مفاتيح الخدمة. ستحتاج إلى نقطة النهاية والمفاتيح للاتصال بمورد الخدمات المعرفية من تطبيقات العميل.\r\n",
        "\r\n",
        "### احصل على المفتاح ونقطة النهاية لمورد الخدمات المعرفية\r\n",
        "\r\n",
        "لاستخدام مورد الخدمات المعرفية، تحتاج تطبيقات العميل إلى نقطة النهاية ومفتاح المصادقة:\r\n",
        "\r\n",
        "1. في مدخل Azure، في صفحة **المفاتيح ونقطة النهاية** لمورد الخدمة المعرفية، انسخ **Key1** لموردك وقم بلصقه في الرمز أدناه، مع استبدال **YOUR_COG_KEY**.\r\n",
        "2. انسخ **نقطة النهاية** لموردك وألصقها في الرمز أدناه، لتحل محل **YOUR_COG_ENDPOINT**.\r\n",
        "3. قم بتشغيل الرمز في الخلية أدناه بالنقر فوق الزر <span style=\"color:green\">&#9655;</span> الأخضر."
      ],
      "metadata": {}
    },
    {
      "cell_type": "code",
      "source": [
        "cog_key = 'YOUR_COG_KEY'\n",
        "cog_endpoint = 'YOUR_COG_ENDPOINT'\n",
        "\n",
        "print('Ready to use cognitive services at {} using key {}'.format(cog_endpoint, cog_key))"
      ],
      "outputs": [],
      "execution_count": null,
      "metadata": {
        "gather": {
          "logged": 1599694661070
        }
      }
    },
    {
      "cell_type": "markdown",
      "source": [
        "## تحديد اللغة\r\n",
        "لنبدأ بتحديد اللغة التي كُتبت بها هذه المراجعات."
      ],
      "metadata": {}
    },
    {
      "cell_type": "code",
      "source": [
        "import os\n",
        "from azure.cognitiveservices.language.textanalytics import TextAnalyticsClient\n",
        "from msrest.authentication import CognitiveServicesCredentials\n",
        "\n",
        "# احصل على عميل لمورد خدمة تحليلات النص المعرفية\r\n",
        "text_analytics_client = TextAnalyticsClient(endpoint=cog_endpoint,\n",
        "                                            credentials=CognitiveServicesCredentials(cog_key))\n",
        "\n",
        "# حلل المراجعات التي قرأتها من مجلد / البيانات / المراجعات سابقًا\r\n",
        "language_analysis = text_analytics_client.detect_language(documents=reviews)\n",
        "\n",
        "# طباعة تفاصيل اللغة المكتشفة لكل مراجعة\r\n",
        "for review_num in range(len(reviews)):\n",
        "    # print the review id\n",
        "    print(reviews[review_num]['id'])\n",
        "\n",
        "    # Get the language details for this review\n",
        "    lang = language_analysis.documents[review_num].detected_languages[0]\n",
        "    print(' - Language: {}\\n - Code: {}\\n - Score: {}\\n'.format(lang.name, lang.iso6391_name, lang.score))\n",
        "\n",
        "    # Add the detected language code to the collection of reviews (so we can do further analysis)\n",
        "    reviews[review_num][\"language\"] = lang.iso6391_name"
      ],
      "outputs": [],
      "execution_count": null,
      "metadata": {
        "gather": {
          "logged": 1599694675019
        }
      }
    },
    {
      "cell_type": "markdown",
      "source": [
        "## استخراج العبارات الأساسية\r\n",
        "\r\n",
        "يمكنك الآن تحليل النص في مراجعات العملاء لتحديد العبارات الأساسية التي تعطي بعض الإشارات إلى نقاط الحديث الرئيسية."
      ],
      "metadata": {}
    },
    {
      "cell_type": "code",
      "source": [
        "# # استخدم العميل والمراجعات التي قمت بإنشائها في خلية الكود السابقة للحصول على العبارات الأساسية\r\n",
        "key_phrase_analysis = text_analytics_client.key_phrases(documents=reviews)\n",
        "\n",
        "# اطبع العبارات الأساسية لكل مراجعة\r\n",
        "for review_num in range(len(reviews)):\n",
        "    # print the review id\n",
        "    print(reviews[review_num]['id'])\n",
        "\n",
        "    # Get the key phrases in this review\n",
        "    print('\\nKey Phrases:')\n",
        "    key_phrases = key_phrase_analysis.documents[review_num].key_phrases\n",
        "    # Print each key phrase\n",
        "    for key_phrase in key_phrases:\n",
        "        print('\\t', key_phrase)\n",
        "    print('\\n')"
      ],
      "outputs": [],
      "execution_count": null,
      "metadata": {
        "gather": {
          "logged": 1599694682067
        }
      }
    },
    {
      "cell_type": "markdown",
      "source": [
        "يمكن أن تساعدك العبارات الأساسية على فهم أهم نقاط الحديث في كل تقييم. على سبيل المثال، يمكن أن تعطيك المراجعات التي تحتوي على عبارة \"فريق عمل مفيد\" أو \"خدمة سيئة\" إشارة إلى بعض الاهتمامات الرئيسية للعميل الذي أضاف المراجع.\r\n",
        "\r\n",
        "## توجيه المشاعر\r\n",
        "\r\n",
        "قد يكون من المفيد تصنيف المراجعات على أنها *إيجابية* أو* سلبية* بناءً على *درجة المشاعر*. ‏‫ويمكنك استخدام خدمة تحليل النص ‏‫للقيام بذلك.‬"
      ],
      "metadata": {}
    },
    {
      "cell_type": "code",
      "source": [
        "# استخدم العميل والمراجعات التي قمت بإنشائها مسبقًا للحصول على درجات المشاعر\r\n",
        "sentiment_analysis = text_analytics_client.sentiment(documents=reviews)\n",
        "\n",
        "# اطبع نتائج كل مراجعة\r\n",
        "for review_num in range(len(reviews)):\n",
        "\n",
        "    # Get the sentiment score for this review\n",
        "    sentiment_score = sentiment_analysis.documents[review_num].score\n",
        "\n",
        "    # classifiy 'positive' if more than 0.5, \n",
        "    if sentiment_score < 0.5:\n",
        "        sentiment = 'negative'\n",
        "    else:\n",
        "        sentiment = 'positive'\n",
        "\n",
        "    # print file name and sentiment\n",
        "    print('{} : {} ({})'.format(reviews[review_num]['id'], sentiment, sentiment_score))"
      ],
      "outputs": [],
      "execution_count": null,
      "metadata": {
        "gather": {
          "logged": 1599694685535
        }
      }
    },
    {
      "cell_type": "markdown",
      "source": [
        "## استخراج العناصر المعروفة\r\n",
        "\r\n",
        "*العناصر* هي الأشياء التي قد يتم ذكرها في النص الذي يشير إلى نوع من العناصر المفهومة بشكل عام. على سبيل المثال، موقع أو شخص أو تاريخ. لنفترض أنك مهتم بالتواريخ والأماكن المذكورة في المراجعات - يمكنك استخدام الرمز التالي للعثور عليها."
      ],
      "metadata": {}
    },
    {
      "cell_type": "code",
      "source": [
        "# استخدم العميل والمراجعات التي قمت بإنشائها مسبقًا للحصول على عناصر مسماة\r\n",
        "entity_analysis = text_analytics_client.entities(documents=reviews)\n",
        "\n",
        "# اطبع نتائج كل مراجعة\r\n",
        "for review_num in range(len(reviews)):\n",
        "    print(reviews[review_num]['id'])\n",
        "    # Get the named entitites in this review\n",
        "    entities = entity_analysis.documents[review_num].entities\n",
        "    for entity in entities:\n",
        "        # Only get location entitites\n",
        "        if entity.type in ['DateTime','Location']:\n",
        "            link = '(' + entity.wikipedia_url + ')' if entity.wikipedia_id is not None else ''\n",
        "            print(' - {}: {} {}'.format(entity.type, entity.name, link))"
      ],
      "outputs": [],
      "execution_count": null,
      "metadata": {
        "gather": {
          "logged": 1599694688496
        }
      }
    },
    {
      "cell_type": "markdown",
      "source": [
        "لاحظ أن بعض العناصر معروفة جيدًا بامتلاكها لصفحة ويكيبيديا مرتبطة، وفي هذه الحالة تعرض خدمة تحليلات النص عنوان URL لتلك الصفحة.\r\n",
        "\r\n",
        "## معرفة المزيد\r\n",
        "\r\n",
        "لمزيد من المعلومات حول خدمة تحليل النصوص، راجع [مستندات خدمة تحليل النصوص](https://docs.microsoft.com/azure/cognitive-services/text-analytics/)"
      ],
      "metadata": {}
    }
  ],
  "metadata": {
    "language_info": {
      "name": "python",
      "version": "3.6.9",
      "mimetype": "text/x-python",
      "codemirror_mode": {
        "name": "ipython",
        "version": 3
      },
      "pygments_lexer": "ipython3",
      "nbconvert_exporter": "python",
      "file_extension": ".py"
    },
    "kernelspec": {
      "name": "python3-azureml",
      "language": "python",
      "display_name": "Python 3.6 - AzureML"
    },
    "kernel_info": {
      "name": "python3-azureml"
    },
    "nteract": {
      "version": "nteract-front-end@1.0.0"
    }
  },
  "nbformat": 4,
  "nbformat_minor": 2
}